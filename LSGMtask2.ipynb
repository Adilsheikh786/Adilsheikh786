{
  "nbformat": 4,
  "nbformat_minor": 0,
  "metadata": {
    "colab": {
      "name": "LSGMtask2.ipynb",
      "provenance": [],
      "collapsed_sections": []
    },
    "kernelspec": {
      "name": "python3",
      "display_name": "Python 3"
    },
    "language_info": {
      "name": "python"
    }
  },
  "cells": [
    {
      "cell_type": "code",
      "source": [
        "import pandas as pd\n",
        "import numpy as np\n",
        "import math\n",
        "import matplotlib.pyplot as plt\n",
        "from sklearn.preprocessing import MinMaxScaler\n",
        "from sklearn.metrics import mean_squared_error\n",
        "import tensorflow as tf\n",
        "from tensorflow.python.keras.models import Sequential\n",
        "from tensorflow.python.keras.layers import Dense\n",
        "from tensorflow.python.keras.layers import LSTM\n",
        "%matplotlib inline"
      ],
      "metadata": {
        "id": "4fS_ghaWCDSK"
      },
      "execution_count": 12,
      "outputs": []
    },
    {
      "cell_type": "code",
      "source": [
        "df = pd.read_csv('https://raw.githubusercontent.com/mwitiderrick/stockprice/master/NSE-TATAGLOBAL.csv')\n",
        "df = df.dropna()\n",
        "df.head()"
      ],
      "metadata": {
        "colab": {
          "base_uri": "https://localhost:8080/",
          "height": 206
        },
        "id": "KUEyE3KqCYBD",
        "outputId": "848e87ee-ff44-4246-d0b7-3abdb29bed54"
      },
      "execution_count": 13,
      "outputs": [
        {
          "output_type": "execute_result",
          "data": {
            "text/plain": [
              "         Date    Open    High     Low    Last   Close  Total Trade Quantity  \\\n",
              "0  2018-09-28  234.05  235.95  230.20  233.50  233.75               3069914   \n",
              "1  2018-09-27  234.55  236.80  231.10  233.80  233.25               5082859   \n",
              "2  2018-09-26  240.00  240.00  232.50  235.00  234.25               2240909   \n",
              "3  2018-09-25  233.30  236.75  232.00  236.25  236.10               2349368   \n",
              "4  2018-09-24  233.55  239.20  230.75  234.00  233.30               3423509   \n",
              "\n",
              "   Turnover (Lacs)  \n",
              "0          7162.35  \n",
              "1         11859.95  \n",
              "2          5248.60  \n",
              "3          5503.90  \n",
              "4          7999.55  "
            ],
            "text/html": [
              "\n",
              "  <div id=\"df-a62a96ea-f245-48ab-b2bc-fdb957d8048a\">\n",
              "    <div class=\"colab-df-container\">\n",
              "      <div>\n",
              "<style scoped>\n",
              "    .dataframe tbody tr th:only-of-type {\n",
              "        vertical-align: middle;\n",
              "    }\n",
              "\n",
              "    .dataframe tbody tr th {\n",
              "        vertical-align: top;\n",
              "    }\n",
              "\n",
              "    .dataframe thead th {\n",
              "        text-align: right;\n",
              "    }\n",
              "</style>\n",
              "<table border=\"1\" class=\"dataframe\">\n",
              "  <thead>\n",
              "    <tr style=\"text-align: right;\">\n",
              "      <th></th>\n",
              "      <th>Date</th>\n",
              "      <th>Open</th>\n",
              "      <th>High</th>\n",
              "      <th>Low</th>\n",
              "      <th>Last</th>\n",
              "      <th>Close</th>\n",
              "      <th>Total Trade Quantity</th>\n",
              "      <th>Turnover (Lacs)</th>\n",
              "    </tr>\n",
              "  </thead>\n",
              "  <tbody>\n",
              "    <tr>\n",
              "      <th>0</th>\n",
              "      <td>2018-09-28</td>\n",
              "      <td>234.05</td>\n",
              "      <td>235.95</td>\n",
              "      <td>230.20</td>\n",
              "      <td>233.50</td>\n",
              "      <td>233.75</td>\n",
              "      <td>3069914</td>\n",
              "      <td>7162.35</td>\n",
              "    </tr>\n",
              "    <tr>\n",
              "      <th>1</th>\n",
              "      <td>2018-09-27</td>\n",
              "      <td>234.55</td>\n",
              "      <td>236.80</td>\n",
              "      <td>231.10</td>\n",
              "      <td>233.80</td>\n",
              "      <td>233.25</td>\n",
              "      <td>5082859</td>\n",
              "      <td>11859.95</td>\n",
              "    </tr>\n",
              "    <tr>\n",
              "      <th>2</th>\n",
              "      <td>2018-09-26</td>\n",
              "      <td>240.00</td>\n",
              "      <td>240.00</td>\n",
              "      <td>232.50</td>\n",
              "      <td>235.00</td>\n",
              "      <td>234.25</td>\n",
              "      <td>2240909</td>\n",
              "      <td>5248.60</td>\n",
              "    </tr>\n",
              "    <tr>\n",
              "      <th>3</th>\n",
              "      <td>2018-09-25</td>\n",
              "      <td>233.30</td>\n",
              "      <td>236.75</td>\n",
              "      <td>232.00</td>\n",
              "      <td>236.25</td>\n",
              "      <td>236.10</td>\n",
              "      <td>2349368</td>\n",
              "      <td>5503.90</td>\n",
              "    </tr>\n",
              "    <tr>\n",
              "      <th>4</th>\n",
              "      <td>2018-09-24</td>\n",
              "      <td>233.55</td>\n",
              "      <td>239.20</td>\n",
              "      <td>230.75</td>\n",
              "      <td>234.00</td>\n",
              "      <td>233.30</td>\n",
              "      <td>3423509</td>\n",
              "      <td>7999.55</td>\n",
              "    </tr>\n",
              "  </tbody>\n",
              "</table>\n",
              "</div>\n",
              "      <button class=\"colab-df-convert\" onclick=\"convertToInteractive('df-a62a96ea-f245-48ab-b2bc-fdb957d8048a')\"\n",
              "              title=\"Convert this dataframe to an interactive table.\"\n",
              "              style=\"display:none;\">\n",
              "        \n",
              "  <svg xmlns=\"http://www.w3.org/2000/svg\" height=\"24px\"viewBox=\"0 0 24 24\"\n",
              "       width=\"24px\">\n",
              "    <path d=\"M0 0h24v24H0V0z\" fill=\"none\"/>\n",
              "    <path d=\"M18.56 5.44l.94 2.06.94-2.06 2.06-.94-2.06-.94-.94-2.06-.94 2.06-2.06.94zm-11 1L8.5 8.5l.94-2.06 2.06-.94-2.06-.94L8.5 2.5l-.94 2.06-2.06.94zm10 10l.94 2.06.94-2.06 2.06-.94-2.06-.94-.94-2.06-.94 2.06-2.06.94z\"/><path d=\"M17.41 7.96l-1.37-1.37c-.4-.4-.92-.59-1.43-.59-.52 0-1.04.2-1.43.59L10.3 9.45l-7.72 7.72c-.78.78-.78 2.05 0 2.83L4 21.41c.39.39.9.59 1.41.59.51 0 1.02-.2 1.41-.59l7.78-7.78 2.81-2.81c.8-.78.8-2.07 0-2.86zM5.41 20L4 18.59l7.72-7.72 1.47 1.35L5.41 20z\"/>\n",
              "  </svg>\n",
              "      </button>\n",
              "      \n",
              "  <style>\n",
              "    .colab-df-container {\n",
              "      display:flex;\n",
              "      flex-wrap:wrap;\n",
              "      gap: 12px;\n",
              "    }\n",
              "\n",
              "    .colab-df-convert {\n",
              "      background-color: #E8F0FE;\n",
              "      border: none;\n",
              "      border-radius: 50%;\n",
              "      cursor: pointer;\n",
              "      display: none;\n",
              "      fill: #1967D2;\n",
              "      height: 32px;\n",
              "      padding: 0 0 0 0;\n",
              "      width: 32px;\n",
              "    }\n",
              "\n",
              "    .colab-df-convert:hover {\n",
              "      background-color: #E2EBFA;\n",
              "      box-shadow: 0px 1px 2px rgba(60, 64, 67, 0.3), 0px 1px 3px 1px rgba(60, 64, 67, 0.15);\n",
              "      fill: #174EA6;\n",
              "    }\n",
              "\n",
              "    [theme=dark] .colab-df-convert {\n",
              "      background-color: #3B4455;\n",
              "      fill: #D2E3FC;\n",
              "    }\n",
              "\n",
              "    [theme=dark] .colab-df-convert:hover {\n",
              "      background-color: #434B5C;\n",
              "      box-shadow: 0px 1px 3px 1px rgba(0, 0, 0, 0.15);\n",
              "      filter: drop-shadow(0px 1px 2px rgba(0, 0, 0, 0.3));\n",
              "      fill: #FFFFFF;\n",
              "    }\n",
              "  </style>\n",
              "\n",
              "      <script>\n",
              "        const buttonEl =\n",
              "          document.querySelector('#df-a62a96ea-f245-48ab-b2bc-fdb957d8048a button.colab-df-convert');\n",
              "        buttonEl.style.display =\n",
              "          google.colab.kernel.accessAllowed ? 'block' : 'none';\n",
              "\n",
              "        async function convertToInteractive(key) {\n",
              "          const element = document.querySelector('#df-a62a96ea-f245-48ab-b2bc-fdb957d8048a');\n",
              "          const dataTable =\n",
              "            await google.colab.kernel.invokeFunction('convertToInteractive',\n",
              "                                                     [key], {});\n",
              "          if (!dataTable) return;\n",
              "\n",
              "          const docLinkHtml = 'Like what you see? Visit the ' +\n",
              "            '<a target=\"_blank\" href=https://colab.research.google.com/notebooks/data_table.ipynb>data table notebook</a>'\n",
              "            + ' to learn more about interactive tables.';\n",
              "          element.innerHTML = '';\n",
              "          dataTable['output_type'] = 'display_data';\n",
              "          await google.colab.output.renderOutput(dataTable, element);\n",
              "          const docLink = document.createElement('div');\n",
              "          docLink.innerHTML = docLinkHtml;\n",
              "          element.appendChild(docLink);\n",
              "        }\n",
              "      </script>\n",
              "    </div>\n",
              "  </div>\n",
              "  "
            ]
          },
          "metadata": {},
          "execution_count": 13
        }
      ]
    },
    {
      "cell_type": "code",
      "source": [
        "df.tail()"
      ],
      "metadata": {
        "colab": {
          "base_uri": "https://localhost:8080/",
          "height": 206
        },
        "id": "4jaSCAWGCdXr",
        "outputId": "4f60a543-89ea-401e-a40f-59cf4d444c1e"
      },
      "execution_count": 14,
      "outputs": [
        {
          "output_type": "execute_result",
          "data": {
            "text/plain": [
              "            Date   Open    High     Low    Last   Close  Total Trade Quantity  \\\n",
              "2030  2010-07-27  117.6  119.50  112.00  118.80  118.65                586100   \n",
              "2031  2010-07-26  120.1  121.00  117.10  117.10  117.60                658440   \n",
              "2032  2010-07-23  121.8  121.95  120.25  120.35  120.65                281312   \n",
              "2033  2010-07-22  120.3  122.00  120.25  120.75  120.90                293312   \n",
              "2034  2010-07-21  122.1  123.00  121.05  121.10  121.55                658666   \n",
              "\n",
              "      Turnover (Lacs)  \n",
              "2030           694.98  \n",
              "2031           780.01  \n",
              "2032           340.31  \n",
              "2033           355.17  \n",
              "2034           803.56  "
            ],
            "text/html": [
              "\n",
              "  <div id=\"df-5478b902-d95f-473c-b6f6-8c1c5917e4fc\">\n",
              "    <div class=\"colab-df-container\">\n",
              "      <div>\n",
              "<style scoped>\n",
              "    .dataframe tbody tr th:only-of-type {\n",
              "        vertical-align: middle;\n",
              "    }\n",
              "\n",
              "    .dataframe tbody tr th {\n",
              "        vertical-align: top;\n",
              "    }\n",
              "\n",
              "    .dataframe thead th {\n",
              "        text-align: right;\n",
              "    }\n",
              "</style>\n",
              "<table border=\"1\" class=\"dataframe\">\n",
              "  <thead>\n",
              "    <tr style=\"text-align: right;\">\n",
              "      <th></th>\n",
              "      <th>Date</th>\n",
              "      <th>Open</th>\n",
              "      <th>High</th>\n",
              "      <th>Low</th>\n",
              "      <th>Last</th>\n",
              "      <th>Close</th>\n",
              "      <th>Total Trade Quantity</th>\n",
              "      <th>Turnover (Lacs)</th>\n",
              "    </tr>\n",
              "  </thead>\n",
              "  <tbody>\n",
              "    <tr>\n",
              "      <th>2030</th>\n",
              "      <td>2010-07-27</td>\n",
              "      <td>117.6</td>\n",
              "      <td>119.50</td>\n",
              "      <td>112.00</td>\n",
              "      <td>118.80</td>\n",
              "      <td>118.65</td>\n",
              "      <td>586100</td>\n",
              "      <td>694.98</td>\n",
              "    </tr>\n",
              "    <tr>\n",
              "      <th>2031</th>\n",
              "      <td>2010-07-26</td>\n",
              "      <td>120.1</td>\n",
              "      <td>121.00</td>\n",
              "      <td>117.10</td>\n",
              "      <td>117.10</td>\n",
              "      <td>117.60</td>\n",
              "      <td>658440</td>\n",
              "      <td>780.01</td>\n",
              "    </tr>\n",
              "    <tr>\n",
              "      <th>2032</th>\n",
              "      <td>2010-07-23</td>\n",
              "      <td>121.8</td>\n",
              "      <td>121.95</td>\n",
              "      <td>120.25</td>\n",
              "      <td>120.35</td>\n",
              "      <td>120.65</td>\n",
              "      <td>281312</td>\n",
              "      <td>340.31</td>\n",
              "    </tr>\n",
              "    <tr>\n",
              "      <th>2033</th>\n",
              "      <td>2010-07-22</td>\n",
              "      <td>120.3</td>\n",
              "      <td>122.00</td>\n",
              "      <td>120.25</td>\n",
              "      <td>120.75</td>\n",
              "      <td>120.90</td>\n",
              "      <td>293312</td>\n",
              "      <td>355.17</td>\n",
              "    </tr>\n",
              "    <tr>\n",
              "      <th>2034</th>\n",
              "      <td>2010-07-21</td>\n",
              "      <td>122.1</td>\n",
              "      <td>123.00</td>\n",
              "      <td>121.05</td>\n",
              "      <td>121.10</td>\n",
              "      <td>121.55</td>\n",
              "      <td>658666</td>\n",
              "      <td>803.56</td>\n",
              "    </tr>\n",
              "  </tbody>\n",
              "</table>\n",
              "</div>\n",
              "      <button class=\"colab-df-convert\" onclick=\"convertToInteractive('df-5478b902-d95f-473c-b6f6-8c1c5917e4fc')\"\n",
              "              title=\"Convert this dataframe to an interactive table.\"\n",
              "              style=\"display:none;\">\n",
              "        \n",
              "  <svg xmlns=\"http://www.w3.org/2000/svg\" height=\"24px\"viewBox=\"0 0 24 24\"\n",
              "       width=\"24px\">\n",
              "    <path d=\"M0 0h24v24H0V0z\" fill=\"none\"/>\n",
              "    <path d=\"M18.56 5.44l.94 2.06.94-2.06 2.06-.94-2.06-.94-.94-2.06-.94 2.06-2.06.94zm-11 1L8.5 8.5l.94-2.06 2.06-.94-2.06-.94L8.5 2.5l-.94 2.06-2.06.94zm10 10l.94 2.06.94-2.06 2.06-.94-2.06-.94-.94-2.06-.94 2.06-2.06.94z\"/><path d=\"M17.41 7.96l-1.37-1.37c-.4-.4-.92-.59-1.43-.59-.52 0-1.04.2-1.43.59L10.3 9.45l-7.72 7.72c-.78.78-.78 2.05 0 2.83L4 21.41c.39.39.9.59 1.41.59.51 0 1.02-.2 1.41-.59l7.78-7.78 2.81-2.81c.8-.78.8-2.07 0-2.86zM5.41 20L4 18.59l7.72-7.72 1.47 1.35L5.41 20z\"/>\n",
              "  </svg>\n",
              "      </button>\n",
              "      \n",
              "  <style>\n",
              "    .colab-df-container {\n",
              "      display:flex;\n",
              "      flex-wrap:wrap;\n",
              "      gap: 12px;\n",
              "    }\n",
              "\n",
              "    .colab-df-convert {\n",
              "      background-color: #E8F0FE;\n",
              "      border: none;\n",
              "      border-radius: 50%;\n",
              "      cursor: pointer;\n",
              "      display: none;\n",
              "      fill: #1967D2;\n",
              "      height: 32px;\n",
              "      padding: 0 0 0 0;\n",
              "      width: 32px;\n",
              "    }\n",
              "\n",
              "    .colab-df-convert:hover {\n",
              "      background-color: #E2EBFA;\n",
              "      box-shadow: 0px 1px 2px rgba(60, 64, 67, 0.3), 0px 1px 3px 1px rgba(60, 64, 67, 0.15);\n",
              "      fill: #174EA6;\n",
              "    }\n",
              "\n",
              "    [theme=dark] .colab-df-convert {\n",
              "      background-color: #3B4455;\n",
              "      fill: #D2E3FC;\n",
              "    }\n",
              "\n",
              "    [theme=dark] .colab-df-convert:hover {\n",
              "      background-color: #434B5C;\n",
              "      box-shadow: 0px 1px 3px 1px rgba(0, 0, 0, 0.15);\n",
              "      filter: drop-shadow(0px 1px 2px rgba(0, 0, 0, 0.3));\n",
              "      fill: #FFFFFF;\n",
              "    }\n",
              "  </style>\n",
              "\n",
              "      <script>\n",
              "        const buttonEl =\n",
              "          document.querySelector('#df-5478b902-d95f-473c-b6f6-8c1c5917e4fc button.colab-df-convert');\n",
              "        buttonEl.style.display =\n",
              "          google.colab.kernel.accessAllowed ? 'block' : 'none';\n",
              "\n",
              "        async function convertToInteractive(key) {\n",
              "          const element = document.querySelector('#df-5478b902-d95f-473c-b6f6-8c1c5917e4fc');\n",
              "          const dataTable =\n",
              "            await google.colab.kernel.invokeFunction('convertToInteractive',\n",
              "                                                     [key], {});\n",
              "          if (!dataTable) return;\n",
              "\n",
              "          const docLinkHtml = 'Like what you see? Visit the ' +\n",
              "            '<a target=\"_blank\" href=https://colab.research.google.com/notebooks/data_table.ipynb>data table notebook</a>'\n",
              "            + ' to learn more about interactive tables.';\n",
              "          element.innerHTML = '';\n",
              "          dataTable['output_type'] = 'display_data';\n",
              "          await google.colab.output.renderOutput(dataTable, element);\n",
              "          const docLink = document.createElement('div');\n",
              "          docLink.innerHTML = docLinkHtml;\n",
              "          element.appendChild(docLink);\n",
              "        }\n",
              "      </script>\n",
              "    </div>\n",
              "  </div>\n",
              "  "
            ]
          },
          "metadata": {},
          "execution_count": 14
        }
      ]
    },
    {
      "cell_type": "code",
      "source": [
        "df_close = df['Close']"
      ],
      "metadata": {
        "id": "S5reeJBQChSy"
      },
      "execution_count": 15,
      "outputs": []
    },
    {
      "cell_type": "code",
      "source": [
        "df_close.shape"
      ],
      "metadata": {
        "colab": {
          "base_uri": "https://localhost:8080/"
        },
        "id": "sMnpyugDCidS",
        "outputId": "f820dc24-4f42-4345-e39f-d74cf08eae03"
      },
      "execution_count": 16,
      "outputs": [
        {
          "output_type": "execute_result",
          "data": {
            "text/plain": [
              "(2035,)"
            ]
          },
          "metadata": {},
          "execution_count": 16
        }
      ]
    },
    {
      "cell_type": "code",
      "source": [
        "plt.plot(df_close)"
      ],
      "metadata": {
        "colab": {
          "base_uri": "https://localhost:8080/",
          "height": 283
        },
        "id": "3VkGEY1ICkwq",
        "outputId": "361bf73f-f9f8-4fca-ff33-561c67065f99"
      },
      "execution_count": 17,
      "outputs": [
        {
          "output_type": "execute_result",
          "data": {
            "text/plain": [
              "[<matplotlib.lines.Line2D at 0x7ff8726d41d0>]"
            ]
          },
          "metadata": {},
          "execution_count": 17
        },
        {
          "output_type": "display_data",
          "data": {
            "text/plain": [
              "<Figure size 432x288 with 1 Axes>"
            ],
            "image/png": "[encoded data removed]"
          },
          "metadata": {
            "needs_background": "light"
          }
        }
      ]
    },
    {
      "cell_type": "code",
      "source": [
        "scaler = MinMaxScaler(feature_range = (0,1))\n",
        "df_close = scaler.fit_transform(np.array(df_close).reshape(-1,1))"
      ],
      "metadata": {
        "id": "UfD33aUPCneJ"
      },
      "execution_count": 18,
      "outputs": []
    },
    {
      "cell_type": "code",
      "source": [
        "df_close.shape"
      ],
      "metadata": {
        "colab": {
          "base_uri": "https://localhost:8080/"
        },
        "id": "EGUnzuaFCpxy",
        "outputId": "d185b1c0-37ec-43d2-894f-52d6f82304c0"
      },
      "execution_count": 19,
      "outputs": [
        {
          "output_type": "execute_result",
          "data": {
            "text/plain": [
              "(2035, 1)"
            ]
          },
          "metadata": {},
          "execution_count": 19
        }
      ]
    },
    {
      "cell_type": "code",
      "source": [
        "df_close"
      ],
      "metadata": {
        "colab": {
          "base_uri": "https://localhost:8080/"
        },
        "id": "oeh75ZiNCrg5",
        "outputId": "173dab53-762c-49f5-e583-e3d832a62ee4"
      },
      "execution_count": 20,
      "outputs": [
        {
          "output_type": "execute_result",
          "data": {
            "text/plain": [
              "array([[0.62418301],\n",
              "       [0.62214052],\n",
              "       [0.62622549],\n",
              "       ...,\n",
              "       [0.1621732 ],\n",
              "       [0.16319444],\n",
              "       [0.16584967]])"
            ]
          },
          "metadata": {},
          "execution_count": 20
        }
      ]
    },
    {
      "cell_type": "code",
      "source": [
        "#Split the data into train and test split\n",
        "training_size = int(len(df_close) * 0.75)\n",
        "test_size = len(df_close) - training_size\n",
        "train_data, test_data = df_close[0:training_size,:], df_close[training_size:len(df_close),:1]"
      ],
      "metadata": {
        "id": "JWJ_irmjCtqp"
      },
      "execution_count": 21,
      "outputs": []
    },
    {
      "cell_type": "code",
      "source": [
        "def create_dataset(dataset, time_step = 1):\n",
        "    dataX, dataY = [], []\n",
        "    for i in range(len(dataset) - time_step - 1):\n",
        "        a = dataset[i:(i+time_step), 0]\n",
        "        dataX.append(a)\n",
        "        dataY.append(dataset[i+time_step, 0])\n",
        "    return np.array(dataX), np.array(dataY)"
      ],
      "metadata": {
        "id": "UCcDXZPyCxEK"
      },
      "execution_count": 22,
      "outputs": []
    },
    {
      "cell_type": "code",
      "source": [
        "time_step = 100\n",
        "x_train, y_train = create_dataset(train_data, time_step)\n",
        "x_test, y_test = create_dataset(test_data, time_step)"
      ],
      "metadata": {
        "id": "eKgZYttKCz8y"
      },
      "execution_count": 23,
      "outputs": []
    },
    {
      "cell_type": "code",
      "source": [
        "#Reshape the input to be [samples, time steps, features] which is the requirement of LSTM\n",
        "x_train = x_train.reshape(x_train.shape[0], x_train.shape[1], 1)\n",
        "x_test = x_test.reshape(x_test.shape[0], x_test.shape[1], 1)"
      ],
      "metadata": {
        "id": "RE6VyQ0oC26a"
      },
      "execution_count": 24,
      "outputs": []
    },
    {
      "cell_type": "code",
      "source": [
        "#Create the LSTM Model\n",
        "model = Sequential()\n",
        "model.add(LSTM(50, return_sequences = True, input_shape = (100,1)))\n",
        "model.add(LSTM(50, return_sequences = True))\n",
        "model.add(LSTM(50))\n",
        "model.add(Dense(1))\n",
        "model.compile(loss = 'mean_squared_error', optimizer = 'adam')"
      ],
      "metadata": {
        "id": "g1gl3sJSC5bs"
      },
      "execution_count": 25,
      "outputs": []
    },
    {
      "cell_type": "code",
      "source": [
        "model.summary()"
      ],
      "metadata": {
        "colab": {
          "base_uri": "https://localhost:8080/"
        },
        "id": "zfFr2hoPC9Kq",
        "outputId": "bd67d6bb-ea6f-412b-817b-9d518d68c7df"
      },
      "execution_count": 26,
      "outputs": [
        {
          "output_type": "stream",
          "name": "stdout",
          "text": [
            "Model: \"sequential\"\n",
            "_________________________________________________________________\n",
            "Layer (type)                 Output Shape              Param #   \n",
            "=================================================================\n",
            "lstm (LSTM)                  (None, 100, 50)           10400     \n",
            "_________________________________________________________________\n",
            "lstm_1 (LSTM)                (None, 100, 50)           20200     \n",
            "_________________________________________________________________\n",
            "lstm_2 (LSTM)                (None, 50)                20200     \n",
            "_________________________________________________________________\n",
            "dense (Dense)                (None, 1)                 51        \n",
            "=================================================================\n",
            "Total params: 50,851\n",
            "Trainable params: 50,851\n",
            "Non-trainable params: 0\n",
            "_________________________________________________________________\n"
          ]
        }
      ]
    },
    {
      "cell_type": "code",
      "source": [
        "model.fit(x_train, y_train, validation_data = (x_test, y_test), epochs = 100, batch_size = 64, verbose = 1)"
      ],
      "metadata": {
        "colab": {
          "base_uri": "https://localhost:8080/"
        },
        "id": "X77VDRD2C_jq",
        "outputId": "fb0b2dd4-1f5f-4724-ca57-016b6f277525"
      },
      "execution_count": 27,
      "outputs": [
        {
          "output_type": "stream",
          "name": "stdout",
          "text": [
            "Epoch 1/100\n",
            "23/23 [==============================] - 27s 604ms/step - loss: 0.0235 - val_loss: 0.0081\n",
            "Epoch 2/100\n",
            "23/23 [==============================] - 15s 658ms/step - loss: 0.0026 - val_loss: 0.0013\n",
            "Epoch 3/100\n",
            "23/23 [==============================] - 14s 613ms/step - loss: 0.0014 - val_loss: 0.0011\n",
            "Epoch 4/100\n",
            "23/23 [==============================] - 18s 771ms/step - loss: 0.0014 - val_loss: 0.0015\n",
            "Epoch 5/100\n",
            "23/23 [==============================] - 11s 440ms/step - loss: 0.0013 - val_loss: 0.0014\n",
            "Epoch 6/100\n",
            "23/23 [==============================] - 8s 359ms/step - loss: 0.0012 - val_loss: 8.6705e-04\n",
            "Epoch 7/100\n",
            "23/23 [==============================] - 9s 399ms/step - loss: 0.0012 - val_loss: 0.0011\n",
            "Epoch 8/100\n",
            "23/23 [==============================] - 8s 357ms/step - loss: 0.0011 - val_loss: 0.0013\n",
            "Epoch 9/100\n",
            "23/23 [==============================] - 8s 360ms/step - loss: 0.0011 - val_loss: 0.0011\n",
            "Epoch 10/100\n",
            "23/23 [==============================] - 8s 361ms/step - loss: 0.0010 - val_loss: 7.0309e-04\n",
            "Epoch 11/100\n",
            "23/23 [==============================] - 8s 360ms/step - loss: 0.0010 - val_loss: 0.0011\n",
            "Epoch 12/100\n",
            "23/23 [==============================] - 8s 361ms/step - loss: 9.3233e-04 - val_loss: 9.2803e-04\n",
            "Epoch 13/100\n",
            "23/23 [==============================] - 8s 362ms/step - loss: 9.4252e-04 - val_loss: 9.8406e-04\n",
            "Epoch 14/100\n",
            "23/23 [==============================] - 8s 361ms/step - loss: 8.6656e-04 - val_loss: 6.5245e-04\n",
            "Epoch 15/100\n",
            "23/23 [==============================] - 8s 359ms/step - loss: 8.5034e-04 - val_loss: 5.6389e-04\n",
            "Epoch 16/100\n",
            "23/23 [==============================] - 9s 388ms/step - loss: 0.0011 - val_loss: 0.0011\n",
            "Epoch 17/100\n",
            "23/23 [==============================] - 8s 360ms/step - loss: 8.4578e-04 - val_loss: 7.6765e-04\n",
            "Epoch 18/100\n",
            "23/23 [==============================] - 8s 360ms/step - loss: 7.7851e-04 - val_loss: 8.1305e-04\n",
            "Epoch 19/100\n",
            "23/23 [==============================] - 9s 404ms/step - loss: 8.5512e-04 - val_loss: 6.6315e-04\n",
            "Epoch 20/100\n",
            "23/23 [==============================] - 8s 362ms/step - loss: 6.8995e-04 - val_loss: 6.7527e-04\n",
            "Epoch 21/100\n",
            "23/23 [==============================] - 8s 362ms/step - loss: 7.0235e-04 - val_loss: 7.6738e-04\n",
            "Epoch 22/100\n",
            "23/23 [==============================] - 8s 360ms/step - loss: 6.4957e-04 - val_loss: 7.3101e-04\n",
            "Epoch 23/100\n",
            "23/23 [==============================] - 8s 360ms/step - loss: 7.1166e-04 - val_loss: 6.9315e-04\n",
            "Epoch 24/100\n",
            "23/23 [==============================] - 8s 359ms/step - loss: 6.5627e-04 - val_loss: 7.8066e-04\n",
            "Epoch 25/100\n",
            "23/23 [==============================] - 8s 357ms/step - loss: 6.3730e-04 - val_loss: 8.1720e-04\n",
            "Epoch 26/100\n",
            "23/23 [==============================] - 8s 350ms/step - loss: 6.9680e-04 - val_loss: 6.4561e-04\n",
            "Epoch 27/100\n",
            "23/23 [==============================] - 8s 350ms/step - loss: 6.1919e-04 - val_loss: 5.5445e-04\n",
            "Epoch 28/100\n",
            "23/23 [==============================] - 8s 350ms/step - loss: 6.7247e-04 - val_loss: 6.0995e-04\n",
            "Epoch 29/100\n",
            "23/23 [==============================] - 9s 373ms/step - loss: 5.7735e-04 - val_loss: 7.0918e-04\n",
            "Epoch 30/100\n",
            "23/23 [==============================] - 8s 348ms/step - loss: 6.3055e-04 - val_loss: 4.6984e-04\n",
            "Epoch 31/100\n",
            "23/23 [==============================] - 8s 351ms/step - loss: 7.0249e-04 - val_loss: 7.0428e-04\n",
            "Epoch 32/100\n",
            "23/23 [==============================] - 8s 347ms/step - loss: 5.3761e-04 - val_loss: 7.6238e-04\n",
            "Epoch 33/100\n",
            "23/23 [==============================] - 8s 348ms/step - loss: 5.3089e-04 - val_loss: 6.6108e-04\n",
            "Epoch 34/100\n",
            "23/23 [==============================] - 8s 352ms/step - loss: 5.3465e-04 - val_loss: 4.7722e-04\n",
            "Epoch 35/100\n",
            "23/23 [==============================] - 8s 349ms/step - loss: 5.9247e-04 - val_loss: 6.0161e-04\n",
            "Epoch 36/100\n",
            "23/23 [==============================] - 8s 349ms/step - loss: 5.0854e-04 - val_loss: 7.2555e-04\n",
            "Epoch 37/100\n",
            "23/23 [==============================] - 8s 347ms/step - loss: 4.7826e-04 - val_loss: 5.5431e-04\n",
            "Epoch 38/100\n",
            "23/23 [==============================] - 8s 352ms/step - loss: 5.1745e-04 - val_loss: 4.5157e-04\n",
            "Epoch 39/100\n",
            "23/23 [==============================] - 8s 351ms/step - loss: 5.0099e-04 - val_loss: 5.6872e-04\n",
            "Epoch 40/100\n",
            "23/23 [==============================] - 8s 348ms/step - loss: 4.6366e-04 - val_loss: 4.6141e-04\n",
            "Epoch 41/100\n",
            "23/23 [==============================] - 8s 346ms/step - loss: 4.3038e-04 - val_loss: 4.6390e-04\n",
            "Epoch 42/100\n",
            "23/23 [==============================] - 9s 378ms/step - loss: 4.4533e-04 - val_loss: 4.8337e-04\n",
            "Epoch 43/100\n",
            "23/23 [==============================] - 8s 352ms/step - loss: 4.1382e-04 - val_loss: 5.0832e-04\n",
            "Epoch 44/100\n",
            "23/23 [==============================] - 8s 348ms/step - loss: 3.9787e-04 - val_loss: 4.8989e-04\n",
            "Epoch 45/100\n",
            "23/23 [==============================] - 8s 347ms/step - loss: 3.8280e-04 - val_loss: 5.5485e-04\n",
            "Epoch 46/100\n",
            "23/23 [==============================] - 8s 349ms/step - loss: 3.6979e-04 - val_loss: 4.5899e-04\n",
            "Epoch 47/100\n",
            "23/23 [==============================] - 8s 350ms/step - loss: 3.6787e-04 - val_loss: 4.7207e-04\n",
            "Epoch 48/100\n",
            "23/23 [==============================] - 8s 351ms/step - loss: 3.5062e-04 - val_loss: 4.5991e-04\n",
            "Epoch 49/100\n",
            "23/23 [==============================] - 8s 351ms/step - loss: 3.4758e-04 - val_loss: 5.0145e-04\n",
            "Epoch 50/100\n",
            "23/23 [==============================] - 8s 348ms/step - loss: 3.4564e-04 - val_loss: 2.8257e-04\n",
            "Epoch 51/100\n",
            "23/23 [==============================] - 8s 349ms/step - loss: 3.4096e-04 - val_loss: 3.7868e-04\n",
            "Epoch 52/100\n",
            "23/23 [==============================] - 8s 351ms/step - loss: 3.2996e-04 - val_loss: 3.5731e-04\n",
            "Epoch 53/100\n",
            "23/23 [==============================] - 8s 348ms/step - loss: 3.3225e-04 - val_loss: 2.6185e-04\n",
            "Epoch 54/100\n",
            "23/23 [==============================] - 8s 351ms/step - loss: 3.6788e-04 - val_loss: 3.1433e-04\n",
            "Epoch 55/100\n",
            "23/23 [==============================] - 8s 350ms/step - loss: 3.3145e-04 - val_loss: 2.3473e-04\n",
            "Epoch 56/100\n",
            "23/23 [==============================] - 8s 347ms/step - loss: 2.8447e-04 - val_loss: 2.2691e-04\n",
            "Epoch 57/100\n",
            "23/23 [==============================] - 8s 348ms/step - loss: 2.8152e-04 - val_loss: 2.8304e-04\n",
            "Epoch 58/100\n",
            "23/23 [==============================] - 8s 348ms/step - loss: 2.7068e-04 - val_loss: 3.5631e-04\n",
            "Epoch 59/100\n",
            "23/23 [==============================] - 8s 346ms/step - loss: 2.9787e-04 - val_loss: 2.9545e-04\n",
            "Epoch 60/100\n",
            "23/23 [==============================] - 8s 346ms/step - loss: 2.7861e-04 - val_loss: 2.9618e-04\n",
            "Epoch 61/100\n",
            "23/23 [==============================] - 8s 346ms/step - loss: 3.4632e-04 - val_loss: 2.1759e-04\n",
            "Epoch 62/100\n",
            "23/23 [==============================] - 8s 345ms/step - loss: 3.3715e-04 - val_loss: 2.3074e-04\n",
            "Epoch 63/100\n",
            "23/23 [==============================] - 8s 348ms/step - loss: 2.8713e-04 - val_loss: 3.8028e-04\n",
            "Epoch 64/100\n",
            "23/23 [==============================] - 8s 347ms/step - loss: 3.0118e-04 - val_loss: 2.3778e-04\n",
            "Epoch 65/100\n",
            "23/23 [==============================] - 8s 345ms/step - loss: 2.4569e-04 - val_loss: 3.1867e-04\n",
            "Epoch 66/100\n",
            "23/23 [==============================] - 8s 343ms/step - loss: 3.7508e-04 - val_loss: 2.1144e-04\n",
            "Epoch 67/100\n",
            "23/23 [==============================] - 8s 345ms/step - loss: 2.6519e-04 - val_loss: 2.2723e-04\n",
            "Epoch 68/100\n",
            "23/23 [==============================] - 8s 347ms/step - loss: 2.3073e-04 - val_loss: 2.2298e-04\n",
            "Epoch 69/100\n",
            "23/23 [==============================] - 8s 346ms/step - loss: 2.4434e-04 - val_loss: 2.0541e-04\n",
            "Epoch 70/100\n",
            "23/23 [==============================] - 8s 341ms/step - loss: 2.4303e-04 - val_loss: 2.6073e-04\n",
            "Epoch 71/100\n",
            "23/23 [==============================] - 8s 343ms/step - loss: 2.3671e-04 - val_loss: 2.2850e-04\n",
            "Epoch 72/100\n",
            "23/23 [==============================] - 8s 344ms/step - loss: 2.2411e-04 - val_loss: 2.1976e-04\n",
            "Epoch 73/100\n",
            "23/23 [==============================] - 8s 347ms/step - loss: 2.7762e-04 - val_loss: 3.0265e-04\n",
            "Epoch 74/100\n",
            "23/23 [==============================] - 8s 347ms/step - loss: 2.6708e-04 - val_loss: 2.5945e-04\n",
            "Epoch 75/100\n",
            "23/23 [==============================] - 8s 348ms/step - loss: 2.5956e-04 - val_loss: 2.3471e-04\n",
            "Epoch 76/100\n",
            "23/23 [==============================] - 8s 347ms/step - loss: 2.3005e-04 - val_loss: 3.5511e-04\n",
            "Epoch 77/100\n",
            "23/23 [==============================] - 8s 345ms/step - loss: 2.8091e-04 - val_loss: 1.7816e-04\n",
            "Epoch 78/100\n",
            "23/23 [==============================] - 8s 348ms/step - loss: 2.1673e-04 - val_loss: 1.9097e-04\n",
            "Epoch 79/100\n",
            "23/23 [==============================] - 8s 348ms/step - loss: 2.1265e-04 - val_loss: 2.2597e-04\n",
            "Epoch 80/100\n",
            "23/23 [==============================] - 8s 347ms/step - loss: 2.4549e-04 - val_loss: 1.8010e-04\n",
            "Epoch 81/100\n",
            "23/23 [==============================] - 8s 345ms/step - loss: 2.3107e-04 - val_loss: 2.3531e-04\n",
            "Epoch 82/100\n",
            "23/23 [==============================] - 8s 347ms/step - loss: 2.1735e-04 - val_loss: 1.9537e-04\n",
            "Epoch 83/100\n",
            "23/23 [==============================] - 8s 348ms/step - loss: 2.2031e-04 - val_loss: 1.5844e-04\n",
            "Epoch 84/100\n",
            "23/23 [==============================] - 8s 347ms/step - loss: 2.1632e-04 - val_loss: 1.9537e-04\n",
            "Epoch 85/100\n",
            "23/23 [==============================] - 8s 347ms/step - loss: 2.0794e-04 - val_loss: 1.9241e-04\n",
            "Epoch 86/100\n",
            "23/23 [==============================] - 8s 349ms/step - loss: 2.0451e-04 - val_loss: 1.6402e-04\n",
            "Epoch 87/100\n",
            "23/23 [==============================] - 8s 350ms/step - loss: 2.3963e-04 - val_loss: 3.2348e-04\n",
            "Epoch 88/100\n",
            "23/23 [==============================] - 8s 342ms/step - loss: 2.4307e-04 - val_loss: 2.0246e-04\n",
            "Epoch 89/100\n",
            "23/23 [==============================] - 8s 344ms/step - loss: 2.3349e-04 - val_loss: 2.0167e-04\n",
            "Epoch 90/100\n",
            "23/23 [==============================] - 8s 347ms/step - loss: 2.3263e-04 - val_loss: 1.7906e-04\n",
            "Epoch 91/100\n",
            "23/23 [==============================] - 8s 350ms/step - loss: 2.1221e-04 - val_loss: 1.8076e-04\n",
            "Epoch 92/100\n",
            "23/23 [==============================] - 8s 349ms/step - loss: 2.1531e-04 - val_loss: 1.7472e-04\n",
            "Epoch 93/100\n",
            "23/23 [==============================] - 8s 349ms/step - loss: 2.1705e-04 - val_loss: 1.5850e-04\n",
            "Epoch 94/100\n",
            "23/23 [==============================] - 8s 351ms/step - loss: 2.4699e-04 - val_loss: 1.4420e-04\n",
            "Epoch 95/100\n",
            "23/23 [==============================] - 8s 351ms/step - loss: 2.1149e-04 - val_loss: 1.6294e-04\n",
            "Epoch 96/100\n",
            "23/23 [==============================] - 8s 353ms/step - loss: 2.3161e-04 - val_loss: 1.7925e-04\n",
            "Epoch 97/100\n",
            "23/23 [==============================] - 8s 353ms/step - loss: 2.0644e-04 - val_loss: 1.7203e-04\n",
            "Epoch 98/100\n",
            "23/23 [==============================] - 8s 348ms/step - loss: 2.2357e-04 - val_loss: 1.4501e-04\n",
            "Epoch 99/100\n",
            "23/23 [==============================] - 8s 347ms/step - loss: 2.2545e-04 - val_loss: 1.6863e-04\n",
            "Epoch 100/100\n",
            "23/23 [==============================] - 8s 348ms/step - loss: 2.9920e-04 - val_loss: 2.4507e-04\n"
          ]
        },
        {
          "output_type": "execute_result",
          "data": {
            "text/plain": [
              "<tensorflow.python.keras.callbacks.History at 0x7ff7e8584050>"
            ]
          },
          "metadata": {},
          "execution_count": 27
        }
      ]
    },
    {
      "cell_type": "code",
      "source": [
        "#Lets predict and check performance metrics\n",
        "train_predict = model.predict(x_train)\n",
        "test_predict = model.predict(x_test)"
      ],
      "metadata": {
        "id": "_f3k3wrDDDbS"
      },
      "execution_count": 28,
      "outputs": []
    },
    {
      "cell_type": "code",
      "source": [
        "#Transform back to original form\n",
        "train_predict = scaler.inverse_transform(train_predict)\n",
        "test_predict = scaler.inverse_transform(test_predict)"
      ],
      "metadata": {
        "id": "xQ27IQu-DJRx"
      },
      "execution_count": 29,
      "outputs": []
    },
    {
      "cell_type": "code",
      "source": [
        "#Calculate RMSE performance metrics\n",
        "math.sqrt(mean_squared_error(y_train, train_predict))"
      ],
      "metadata": {
        "colab": {
          "base_uri": "https://localhost:8080/"
        },
        "id": "xh06ZQjlDKiC",
        "outputId": "fde99a4e-1f12-410f-e06a-d3263923a7a5"
      },
      "execution_count": 30,
      "outputs": [
        {
          "output_type": "execute_result",
          "data": {
            "text/plain": [
              "165.68654536917438"
            ]
          },
          "metadata": {},
          "execution_count": 30
        }
      ]
    },
    {
      "cell_type": "code",
      "source": [
        "math.sqrt(mean_squared_error(y_test, test_predict))"
      ],
      "metadata": {
        "colab": {
          "base_uri": "https://localhost:8080/"
        },
        "id": "2RS1Ol0RDNDp",
        "outputId": "37a8bdaa-f3e2-4ff3-9e52-bc7439ba255d"
      },
      "execution_count": 31,
      "outputs": [
        {
          "output_type": "execute_result",
          "data": {
            "text/plain": [
              "106.82124779821824"
            ]
          },
          "metadata": {},
          "execution_count": 31
        }
      ]
    },
    {
      "cell_type": "code",
      "source": [
        "#Plotting\n",
        "\n",
        "#Shift train prediction for plotting\n",
        "look_back = 100\n",
        "trainPredictPlot = np.empty_like(df_close)\n",
        "trainPredictPlot[:,:] = np.nan\n",
        "trainPredictPlot[look_back:len(train_predict) + look_back, :] = train_predict\n",
        "\n",
        "#Shift test prediction for plotting\n",
        "testPredictPlot = np.empty_like(df_close)\n",
        "testPredictPlot[:,:] = np.nan\n",
        "testPredictPlot[len(train_predict) + (look_back * 2)+1:len(df_close) - 1, :] = test_predict\n",
        "\n",
        "#Plot baseline and predictions\n",
        "plt.plot(scaler.inverse_transform(df_close))\n",
        "plt.plot(trainPredictPlot)\n",
        "plt.plot(testPredictPlot)\n",
        "plt.show()"
      ],
      "metadata": {
        "colab": {
          "base_uri": "https://localhost:8080/",
          "height": 265
        },
        "id": "YDusuG-kDPtp",
        "outputId": "a440fce7-baf8-4686-935c-fa2c47a153fe"
      },
      "execution_count": 32,
      "outputs": [
        {
          "output_type": "display_data",
          "data": {
            "text/plain": [
              "<Figure size 432x288 with 1 Axes>"
            ],
            "image/png": "[encoded data removed]"
          },
          "metadata": {
            "needs_background": "light"
          }
        }
      ]
    }
  ]
}